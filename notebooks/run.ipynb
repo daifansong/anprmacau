{
  "cells": [
    {
      "cell_type": "markdown",
      "metadata": {
        "id": "OH5ljZnAbTXD"
      },
      "source": [
        "Installation"
      ]
    },
    {
      "cell_type": "code",
      "execution_count": null,
      "metadata": {
        "colab": {
          "base_uri": "https://localhost:8080/"
        },
        "id": "hMUriDhDwi1X",
        "outputId": "1df68807-126a-4c35-cff7-eba507600ec5"
      },
      "outputs": [],
      "source": [
        "# YOLOv5\n",
        "%cd /content\n",
        "%git clone https://github.com/ultralytics/yolov5.git\n",
        "%pip install -r yolov5/requirements.txt\n",
        "# EfficientDet\n",
        "%git clone https://github.com/zylo117/Yet-Another-EfficientDet-Pytorch.git\n",
        "%pip install pycocotools numpy opencv-python tqdm tensorboard tensorboardX pyyaml webcolors\n",
        "# SSD\n",
        "%git clone https://github.com/dusty-nv/pytorch-ssd.git\n",
        "%pip install -r pytorch-ssd/requirements.txt\n",
        "# Faster R-CNN\n",
        "%python -m pip install 'git+https://github.com/facebookresearch/detectron2.git'"
      ]
    },
    {
      "cell_type": "markdown",
      "metadata": {
        "id": "MdV5NMytxqDV"
      },
      "source": [
        "**GOOD DAY**  😀\n",
        "This is my **DEMO** presentation  **Automatic Number Plate Recognition**\n",
        "\n",
        "\n",
        "*   Object Detection: Vehicle + Number Plate (Here on Colab)\n",
        "*   Optical Character Recognition: Colab + my laptop\n",
        "\n",
        "**Input Image or Video -> Vehicle Detection -> Number Plate Detection -> Number Plate Recognition**\n",
        "\n",
        "\n",
        "\n",
        "---\n",
        "**References**:\n",
        "\n",
        "Object Detection:\n",
        "1.   YOLOv5s: https://github.com/ultralytics/yolov5\n",
        "2.   EfficientDet-D1: https://github.com/zylo117/Yet-Another-EfficientDet-Pytorch\n",
        "3.   SSD: https://github.com/qfgaohao/pytorch-ssd\n",
        "4.   Faster R-CNN: https://github.com/facebookresearch/detectron2\n",
        "\n",
        "\n",
        "---\n",
        "\n",
        "Optical Character Recognition:\n",
        "\n",
        "\n",
        "1.   ResNet101: https://pytorch.org/vision/main/models/generated/torchvision.models.resnet101.html\n",
        "2.   PaddleOCR: https://github.com/PaddlePaddle/PaddleOCR\n",
        "3.   Pytesseract: https://github.com/tesseract-ocr/tesseract\n",
        "\n",
        "\n",
        "\n",
        "\n",
        "\n",
        "\n",
        "\n",
        "\n"
      ]
    },
    {
      "cell_type": "code",
      "execution_count": null,
      "metadata": {
        "colab": {
          "base_uri": "https://localhost:8080/",
          "height": 1000
        },
        "id": "8zdStFeDZbZK",
        "outputId": "075a16eb-da40-4484-a539-cd920d337776"
      },
      "outputs": [],
      "source": [
        "import matplotlib.pyplot as plt\n",
        "import cv2\n",
        "\n",
        "image_path = '024.jpg'\n",
        "image = cv2.imread(image_path)\n",
        "cv2.imshow(image)"
      ]
    },
    {
      "cell_type": "code",
      "execution_count": null,
      "metadata": {
        "colab": {
          "base_uri": "https://localhost:8080/"
        },
        "id": "HfpwShnBjTts",
        "outputId": "5898a46f-ef5b-48b1-ff77-626152e7b030"
      },
      "outputs": [],
      "source": [
        "print(f'\\t\\tYOLOv5')\n",
        "%python experiments/yolo_entire.py {image_path}\n",
        "print(f'\\t\\tEfficientDet')\n",
        "%python experiments/edet_entire.py {image_path}\n",
        "print(f'\\t\\tSSD')\n",
        "%python experiments/ssd_entire.py {image_path}\n",
        "print(f'\\t\\tFaster R-CNN')\n",
        "%python experiments/rcnn_entire.py {image_path}"
      ]
    },
    {
      "cell_type": "code",
      "execution_count": null,
      "metadata": {
        "colab": {
          "base_uri": "https://localhost:8080/",
          "height": 1000
        },
        "id": "Q5dY2wBR615a",
        "outputId": "9521cd53-a867-4b8d-db5a-877b9e84a3a0"
      },
      "outputs": [],
      "source": [
        "from pathlib import Path\n",
        "models = ['yolo', 'edet', 'ssd', 'faster']\n",
        "output_dir = 'output'\n",
        "img_name = Path(image_path).name\n",
        "\n",
        "for i in models:\n",
        "    result_image = f'{output_dir}/{i}_{img_name}'\n",
        "    print(f'\\t\\t{i}')\n",
        "    temp = cv2.imread(result_image)\n",
        "    cv2.imshow(temp)"
      ]
    },
    {
      "cell_type": "markdown",
      "metadata": {
        "id": "cVPefKN-9uAv"
      },
      "source": [
        "It's time to display the information stored in csv file! 😀"
      ]
    },
    {
      "cell_type": "code",
      "execution_count": null,
      "metadata": {
        "colab": {
          "base_uri": "https://localhost:8080/",
          "height": 551
        },
        "id": "qZD6m6y79s6t",
        "outputId": "2184411d-d6d8-4cfa-d9c4-4cb457515e54"
      },
      "outputs": [],
      "source": [
        "import pandas as pd\n",
        "\n",
        "df = pd.read_csv('files/veh.csv')\n",
        "df"
      ]
    },
    {
      "cell_type": "code",
      "execution_count": null,
      "metadata": {
        "colab": {
          "base_uri": "https://localhost:8080/"
        },
        "id": "GSa_mNzPARSP",
        "outputId": "ffca6db5-3afb-45ef-ebb5-878acf1f3cf2"
      },
      "outputs": [],
      "source": [
        "%sudo apt install tesseract-ocr"
      ]
    },
    {
      "cell_type": "code",
      "execution_count": null,
      "metadata": {
        "colab": {
          "base_uri": "https://localhost:8080/"
        },
        "id": "PeDt9N0EeBS8",
        "outputId": "15dfcba7-5035-45c1-904b-fdcd85100312"
      },
      "outputs": [],
      "source": [
        "import numpy as np\n",
        "import pytesseract\n",
        "import cv2\n",
        "from PIL import Image\n",
        "img_path = 'output_image.jpg'\n",
        "img = cv2.imread(img_path)\n",
        "gray = cv2.cvtColor(img, cv2.COLOR_BGR2GRAY)\n",
        "blurred = cv2.GaussianBlur(255 - gray, (5, 5), 0)\n",
        "thresh = cv2.threshold(blurred, 0, 255, cv2.THRESH_BINARY_INV + cv2.THRESH_OTSU)[1]\n",
        "kernel = np.ones((2, 2), np.uint8)\n",
        "erosion = cv2.erode(thresh, kernel, iterations=1)\n",
        "\n",
        "\n",
        "_, labels = cv2.connectedComponents(erosion)\n",
        "mask = np.zeros(erosion.shape, dtype=\"uint8\")\n",
        "total_pixels = img.shape[0] * img.shape[1]\n",
        "lower = total_pixels // 200  # heuristic param, can be fine tuned if necessary\n",
        "upper = total_pixels // 10\n",
        "for (i, label) in enumerate(np.unique(labels)):\n",
        "    if label == 0:\n",
        "        continue\n",
        "    labelMask = np.zeros(thresh.shape, dtype=\"uint8\")\n",
        "    labelMask[labels == label] = 255\n",
        "    numPixels = cv2.countNonZero(labelMask)\n",
        "    if numPixels > lower and numPixels < upper:\n",
        "        mask = cv2.add(mask, labelMask)\n",
        "\n",
        "text = pytesseract.image_to_string(Image.open(img_path))\n",
        "\n",
        "print(text)"
      ]
    }
  ],
  "metadata": {
    "accelerator": "GPU",
    "colab": {
      "gpuType": "T4",
      "provenance": []
    },
    "kernelspec": {
      "display_name": "venv",
      "language": "python",
      "name": "python3"
    },
    "language_info": {
      "name": "python",
      "version": "3.12.3"
    }
  },
  "nbformat": 4,
  "nbformat_minor": 0
}
